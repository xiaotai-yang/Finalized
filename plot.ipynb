{
 "cells": [
  {
   "cell_type": "code",
   "outputs": [],
   "source": [
    "import json\n",
    "\n",
    "import jax.numpy as jnp\n",
    "import numpy as np\n",
    "import pickle\n",
    "import matplotlib\n",
    "import matplotlib.pyplot as plt\n",
    "model_type = \"tensor_gru\"\n",
    "H_type = \"cluster\"\n",
    "L = 64\n",
    "p = 1\n",
    "units = 128\n",
    "numsamples = 256\n",
    "dmrg = False\n",
    "seed = 3\n",
    "angle_list = [0.0, 0.079, 0.157, 0.314, 0.471, 0.628, 0.785, 0.942, 1.1, 1.257, 1.414, 1.571]\n",
    "meanE_ES = []\n",
    "meanE_ES_dmrg = []\n",
    "meanE_cluster = []\n",
    "evalE_ES = []\n",
    "evalE_ES_dmrg = []\n",
    "evalvar_ES_dmeg = []\n",
    "evalvar_ES = []\n",
    "evalE_cluster = []\n",
    "evalvar_cluster = []\n",
    "\n",
    "for i in angle_list:\n",
    "    meanE_ES.append(np.load(\"result/meanE_1DRNN_HtypeES_L64_patch1_units128_batch256_dmrgFalse_seed3_angle\"+str(i)+\".npy\").ravel().tolist())\n",
    "    meanE_ES_dmrg.append(np.load(\"result/meanE_1DRNN_HtypeES_L64_patch1_units128_batch256_dmrgTrue_seed3_angle\"+str(i)+\".npy\").ravel().tolist())\n",
    "    meanE_cluster.append(np.load(\"result/meanE_1DRNN_Htypecluster_L64_patch1_units128_batch256_dmrgFalse_seed3_angle\"+str(i)+\".npy\").ravel().tolist())\n",
    "    evalE_ES.append(np.load(\"result/evalmeanE_1DRNN_HtypeES_L64_patch1_units128_batch256_dmrgFalse_seed3_angle\"+str(i)+\".npy\").ravel().tolist())\n",
    "    evalE_ES_dmrg.append(np.load(\"result/evalmeanE_1DRNN_HtypeES_L64_patch1_units128_batch256_dmrgTrue_seed3_angle\"+str(i)+\".npy\").ravel().tolist())\n",
    "    evalvar_ES.append(np.load(\"result/evalvarE_1DRNN_HtypeES_L64_patch1_units128_batch256_dmrgFalse_seed3_angle\"+str(i)+\".npy\").ravel().tolist())\n",
    "    evalE_cluster.append(np.load(\"result/evalmeanE_1DRNN_Htypecluster_L64_patch1_units128_batch256_dmrgFalse_seed3_angle\"+str(i)+\".npy\").ravel().tolist())\n",
    "    evalvar_cluster.append(np.load(\"result/evalvarE_1DRNN_Htypecluster_L64_patch1_units128_batch256_dmrgFalse_seed3_angle\"+str(i)+\".npy\").ravel().tolist())\n"
   ],
   "metadata": {
    "collapsed": false
   },
   "id": "bcd9227cc9a43bf6"
  },
  {
   "cell_type": "code",
   "outputs": [],
   "source": [
    "plt.figure(figsize=(24, 8))\n",
    "plt.plot(np.arange(len(np.array(meanE_ES).ravel())), np.array(meanE_ES).ravel().real, label = \"ES\")\n",
    "plt.plot(np.arange(len(np.array(meanE_ES_dmrg).ravel())), np.array(meanE_ES_dmrg).ravel().real, label = \"ES_dmrg\")\n",
    "plt.plot(np.arange(len(np.array(meanE_cluster).ravel())), np.flip(np.array(meanE_cluster).reshape(12, -1), axis = 0) .ravel().real, label = \"cluster\")\n",
    "for i in range(1, 12):\n",
    "    plt.axvline(x=i*150000, color=\"gray\", linestyle=\"--\")\n",
    "plt.ylim(-64, -48)\n",
    "plt.ylabel(\"Energy\")\n",
    "plt.xlabel(\"Training Step\")\n",
    "plt.title(\"Energy vs Training Step by tensor_gru (L = 64, units = 128, batch = 256)\")\n",
    "plt.legend()\n",
    "plt.show()"
   ],
   "metadata": {
    "collapsed": false
   },
   "id": "37d5e0958bf11294",
   "execution_count": null
  },
  {
   "cell_type": "code",
   "outputs": [],
   "source": [
    "def moving_average(data, window_size = 50):\n",
    "    return np.convolve(data, np.ones(window_size)/window_size, mode='same')\n",
    "plt.figure(figsize=(24, 8))\n",
    "plt.plot(np.arange(len(np.array(meanE_ES).ravel())), moving_average(np.array(meanE_ES).ravel().real), label = \"ES\")\n",
    "plt.plot(np.arange(len(np.array(meanE_ES_dmrg).ravel())), moving_average(np.array(meanE_ES_dmrg).ravel().real), label = \"ES_dmrg\")\n",
    "plt.plot(np.arange(len(np.array(meanE_cluster).ravel())), moving_average(np.flip(np.array(meanE_cluster).reshape(12, -1), axis = 0).ravel().real), label = \"cluster\")\n",
    "for i in range(1, 12):\n",
    "    plt.axvline(x=i*150000, color=\"gray\", linestyle=\"--\")\n",
    "plt.ylim(-64, -40)\n",
    "plt.ylabel(\"Energy\")\n",
    "plt.xlabel(\"Training Step\")\n",
    "plt.title(\"Energy vs Steps by tensor_gru (moving_avg = 50, L = 64, units = 128, batch = 256)\")\n",
    "plt.legend()\n",
    "plt.show()"
   ],
   "metadata": {
    "collapsed": false
   },
   "id": "c865d00b3e4c28d2",
   "execution_count": null
  },
  {
   "cell_type": "code",
   "outputs": [],
   "source": [
    "plt.scatter(np.array(angle_list), ((np.array(evalE_ES)+64).real/64*100).ravel(), label = \"ES\")\n",
    "plt.scatter(np.array(angle_list), ((np.array(evalE_ES_dmrg)+64).real/64*100).ravel(), label = \"ES_dmrg\")\n",
    "plt.scatter(np.array(angle_list), ((np.flip(np.array(evalE_cluster))+64).real/64*100).ravel(), label = \"cluster\")\n",
    "plt.xlabel(\"rotation angle\")\n",
    "plt.ylabel(\"Energy Error (%)\")\n",
    "plt.title(\"Energy Error (%) vs Rotation Angle by tensor_gru (L = 64, units = 128, batch = 256)\")\n",
    "plt.legend()\n",
    "plt.show()"
   ],
   "metadata": {
    "collapsed": false
   },
   "id": "771145b1e7c598b1",
   "execution_count": null
  },
  {
   "cell_type": "code",
   "outputs": [],
   "source": [
    "plt.scatter(np.array(angle_list), ((np.array(evalE_ES)+64).real/64*100).ravel(), label = \"ES\")\n",
    "plt.scatter(np.array(angle_list), ((np.array(evalE_ES_dmrg)+64).real/64*100).ravel(), label = \"ES_dmrg\")\n",
    "plt.scatter(np.array(angle_list), ((np.flip(np.array(evalE_cluster))+64).real/64*100).ravel(), label = \"cluster\")\n",
    "plt.xlabel(\"rotation angle\")\n",
    "plt.ylabel(\"Energy Error (%)\")\n",
    "plt.title(\"Energy Error (%) vs Rotation Angle by tensor_gru (L = 64, units = 128, batch = 256)\")\n",
    "plt.yscale(\"log\")\n",
    "plt.ylim(1e-5, 5e1)\n",
    "plt.legend()\n",
    "plt.show()"
   ],
   "metadata": {
    "collapsed": false
   },
   "id": "1015445d5f019811",
   "execution_count": null
  },
  {
   "cell_type": "code",
   "outputs": [],
   "source": [
    "plt.scatter(np.array(angle_list)[-5:], ((np.array(evalE_ES[-5:])+64).real/64).ravel(), label = \"ES\")\n",
    "plt.scatter(np.array(angle_list)[-5:], ((np.array(evalE_ES_dmrg[-5:])+64).real/64).ravel(), label = \"ES_dmrg\")\n",
    "plt.scatter(np.array(angle_list)[-5:], ((np.flip(np.array(evalE_cluster[:5]))+64).real/64).ravel(), label = \"cluster\")\n",
    "plt.xlabel(\"rotation angle\")\n",
    "plt.ylabel(\"Energy Error (ratio)\")\n",
    "plt.yscale(\"log\")\n",
    "plt.ylim(1e-5, 3e1)\n",
    "plt.title(\"Energy Error vs Rotation Angle by tensor_gru (L = 64, units = 128, batch = 256)\")\n",
    "plt.legend()\n",
    "plt.show()"
   ],
   "metadata": {
    "collapsed": false
   },
   "id": "c66d07b43b3df796",
   "execution_count": null
  },
  {
   "cell_type": "code",
   "outputs": [],
   "source": [
    "def moving_average(data, window_size = 50):\n",
    "    return np.convolve(data, np.ones(window_size)/window_size, mode='same')\n",
    "avg_meanE_ES = moving_average(np.array(meanE_ES).ravel().real).reshape(12, -1)\n",
    "avg_meanE_ES_dmrg = moving_average(np.array(meanE_ES_dmrg).ravel().real).reshape(12, -1)\n",
    "avg_meanE_cluster = moving_average(np.flip(np.array(meanE_cluster).reshape(12, -1), axis = 0).ravel().real).reshape(12, -1)\n",
    "ES_converge = []\n",
    "ES_dmrg_converge = []\n",
    "cluster_converge = []\n",
    "tarE = -62\n",
    "for i in range(avg_meanE_ES.shape[0]):\n",
    "    j = 0\n",
    "    while (avg_meanE_ES[i, j]>tarE):\n",
    "        j+=1 \n",
    "        if j == 149999:\n",
    "            break\n",
    "    ES_converge.append(j)\n",
    "    j = 0\n",
    "    while (avg_meanE_ES_dmrg[i, j]>tarE):\n",
    "        j += 1\n",
    "        if j == 149999:\n",
    "            break\n",
    "    ES_dmrg_converge.append(j)\n",
    "    j = 0\n",
    "    while (avg_meanE_cluster[i, j]>tarE):\n",
    "        j += 1\n",
    "        if j == 149999:\n",
    "            break\n",
    "    cluster_converge.append(j)"
   ],
   "metadata": {
    "collapsed": false
   },
   "id": "ba16d39aa89a2857",
   "execution_count": null
  },
  {
   "cell_type": "code",
   "outputs": [],
   "source": [
    "plt.scatter(np.array(angle_list), ES_converge, alpha = 0.7, label = \"ES\")\n",
    "plt.scatter(np.array(angle_list), ES_dmrg_converge, alpha = 0.7, label = \"ES_dmrg\")\n",
    "plt.scatter(np.array(angle_list), cluster_converge, alpha = 0.7,label = \"cluster\")\n",
    "plt.xlabel(\"rotation angle\")\n",
    "plt.ylabel(\"Convergence Steps to E = \" + str(tarE))\n",
    "plt.title(\"Convergence Steps to E = \" + str(tarE) + \" vs Rotation Angle by tensor_gru (L = 64, units = 128, batch = 256)\")\n",
    "plt.legend()\n",
    "plt.yscale(\"log\")\n",
    "plt.show()"
   ],
   "metadata": {
    "collapsed": false
   },
   "id": "9cd1d50567f55725",
   "execution_count": null
  },
  {
   "cell_type": "code",
   "outputs": [],
   "source": [
    "\n",
    "plt.scatter(np.array(angle_list), ((np.array(evalE_ES_dmrg)+64).real/64*100).ravel(), label = \"ES_dmrg\")\n",
    "plt.yscale(\"log\")\n",
    "plt.ylim(1e-4, 1e1)"
   ],
   "metadata": {
    "collapsed": false
   },
   "id": "c3fa4b28288119",
   "execution_count": null
  },
  {
   "cell_type": "code",
   "outputs": [],
   "source": [
    "import json\n",
    "import numpy as np\n",
    "import matplotlib.pyplot as plt\n",
    "angle_list = [0.0, 0.157, 0.314, 0.471, 0.628, 0.785, 0.942, 1.1, 1.257, 1.414, 1.571]\n",
    "temp_ang = [0.0, 0.471, 0.785, 1.414, 1.571]\n",
    "temp_ang_c = [0.157, 0.314, 0.628, 0.942, 1.1, 1.257]\n",
    "E_cluster = []\n",
    "E_c = []\n",
    "E_es = []\n",
    "\n",
    "for ang in angle_list:\n",
    "    if ang in temp_ang:\n",
    "        with open('result/RBM/first/RBM_default_Htypecluster_angle='+str(ang)+'_L=64_numsample=4096.log', 'r') as file:\n",
    "            # Read the entire file\n",
    "            log_data = json.load(file)\n",
    "            E_cluster.append(log_data[\"Energy\"][\"Mean\"][\"real\"])\n",
    "        with open('result/RBM/second/RBM_default_Htypecluster_angle='+str(ang)+'_L=64_numsample=4096.log', 'r') as file:       \n",
    "            log_data = json.load(file)\n",
    "            E_cluster.append(log_data[\"Energy\"][\"Mean\"][\"real\"])\n",
    "        with open('result/RBM/third/RBM_default_Htypecluster_angle='+str(ang)+'_L=64_numsample=4096.log', 'r') as file:       \n",
    "            log_data = json.load(file)\n",
    "            E_cluster.append(log_data[\"Energy\"][\"Mean\"][\"real\"])\n",
    "        with open('result/RBM/fourth/RBM_default_Htypecluster_angle='+str(ang)+'_L=64_numsample=4096.log', 'r') as file:   \n",
    "            log_data = json.load(file)\n",
    "            E_cluster.append(log_data[\"Energy\"][\"Mean\"][\"real\"])\n",
    "        with open('result/RBM/fifth/RBM_default_Htypecluster_angle='+str(ang)+'_L=64_numsample=4096.log', 'r') as file:   \n",
    "            log_data = json.load(file)\n",
    "            E_cluster.append(log_data[\"Energy\"][\"Mean\"][\"real\"])\n",
    "    else:\n",
    "        with open('result/RBM/first/RBM_default_Htypecluster_angle='+str(ang)+'_L=64_numsample=4096.log', 'r') as file:\n",
    "            # Read the entire file\n",
    "            log_data = json.load(file)\n",
    "            E_cluster.append(log_data[\"Energy\"][\"Mean\"][\"real\"])\n",
    "            if ang!= 0.628 and ang !=1.257 :\n",
    "                with open('result/RBM/second/RBM_default_Htypecluster_angle='+str(ang)+'_L=64_numsample=4096.log', 'r') as file:\n",
    "                    # Read the entire file\n",
    "                    log_data = json.load(file)\n",
    "                    E_cluster.append(log_data[\"Energy\"][\"Mean\"][\"real\"])\n",
    "for ang in angle_list:\n",
    "\n",
    "    with open('result/RBM/second/RBM_default_HtypeES_angle='+str(ang)+'_L=64_numsample=4096.log', 'r') as file:\n",
    "        log_data = json.load(file)\n",
    "        E_es.append(log_data[\"Energy\"][\"Mean\"][\"real\"])\n",
    "    with open('result/RBM/third/RBM_default_HtypeES_angle='+str(ang)+'_L=64_numsample=4096.log', 'r') as file:\n",
    "        log_data = json.load(file)\n",
    "        E_es.append(log_data[\"Energy\"][\"Mean\"][\"real\"])\n",
    "    with open('result/RBM/fourth/RBM_default_HtypeES_angle='+str(ang)+'_L=64_numsample=4096.log', 'r') as file:\n",
    "        log_data = json.load(file)\n",
    "        E_es.append(log_data[\"Energy\"][\"Mean\"][\"real\"])\n",
    "    with open('result/RBM/fifth/RBM_default_HtypeES_angle='+str(ang)+'_L=64_numsample=4096.log', 'r') as file:\n",
    "        log_data = json.load(file)\n",
    "        E_es.append(log_data[\"Energy\"][\"Mean\"][\"real\"])\n",
    "\n",
    "E_es = sum(E_es, [])\n",
    "E_cluster = sum(E_cluster, [])"
   ],
   "metadata": {
    "collapsed": false
   },
   "id": "dddfe8644a8d9884",
   "execution_count": null
  },
  {
   "cell_type": "code",
   "outputs": [],
   "source": [
    "plt.figure(figsize=(20, 8))\n",
    "plt.plot(np.arange(np.array(E_cluster).ravel().shape[0]), np.flip(np.array(E_cluster).reshape(11, -1), 0).ravel(),  label=\"cluster\")\n",
    "plt.plot(np.arange(np.array(E_es).ravel().shape[0]), np.array(E_es).ravel(),  label=\"ES\")\n",
    "plt.ylim(-64, 0)\n",
    "plt.ylabel(\"Energy\")\n",
    "plt.xlabel(\"Training Step\")\n",
    "plt.title(\"Energy vs Training Step by RBM (L = 64, numsample = 4096)\")\n",
    "for i in range(11):\n",
    "    plt.axvline(x=(i+1)*10000, color=\"gray\", linestyle=\"--\")\n",
    "plt.legend()\n",
    "plt.show()"
   ],
   "metadata": {
    "collapsed": false
   },
   "id": "e6b706778496dc10",
   "execution_count": null
  },
  {
   "cell_type": "code",
   "outputs": [],
   "source": [
    "eval_E_cluster = np.flip(np.array(E_cluster).reshape(11, -1), axis = 0)[:, -1].ravel()\n",
    "eval_E_es = np.array(E_es).reshape(11, -1)[:, -1].ravel()\n",
    "eval_E_es[5] = np.array(E_es)[59570] #Explode after 9570 steps"
   ],
   "metadata": {
    "collapsed": false
   },
   "id": "9ffc0c6e56798972",
   "execution_count": null
  },
  {
   "cell_type": "code",
   "outputs": [],
   "source": [
    "plt.scatter(np.array(angle_list), ((eval_E_es+64).real/64*100).ravel(), label = \"ES\")\n",
    "plt.scatter(np.array(angle_list), ((eval_E_cluster+64).real/64*100).ravel(), label = \"cluster\")\n",
    "plt.xlabel(\"rotation angle\")\n",
    "plt.ylabel(\"Energy Error (%)\")\n",
    "plt.title(\"Energy Error (%) vs Rotation Angle by RBM (L = 64, numsample = 4096)\")\n",
    "plt.yscale(\"log\")\n",
    "plt.legend()\n",
    "plt.show()\n"
   ],
   "metadata": {
    "collapsed": false
   },
   "id": "24aca21a5fc45c1",
   "execution_count": null
  },
  {
   "cell_type": "code",
   "outputs": [],
   "source": [],
   "metadata": {
    "collapsed": false
   },
   "id": "ca87f1612d7ed319"
  }
 ],
 "metadata": {
  "kernelspec": {
   "display_name": "Python 3",
   "language": "python",
   "name": "python3"
  },
  "language_info": {
   "codemirror_mode": {
    "name": "ipython",
    "version": 2
   },
   "file_extension": ".py",
   "mimetype": "text/x-python",
   "name": "python",
   "nbconvert_exporter": "python",
   "pygments_lexer": "ipython2",
   "version": "2.7.6"
  }
 },
 "nbformat": 4,
 "nbformat_minor": 5
}
