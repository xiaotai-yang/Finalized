{
 "cells": [
  {
   "cell_type": "code",
   "execution_count": 1,
   "id": "initial_id",
   "metadata": {
    "collapsed": true,
    "ExecuteTime": {
     "end_time": "2024-09-28T16:36:56.370649Z",
     "start_time": "2024-09-28T16:36:53.964606Z"
    }
   },
   "outputs": [],
   "source": [
    "import jax.numpy as jnp\n",
    "import numpy as np\n",
    "import pickle\n",
    "import matplotlib\n",
    "import matplotlib.pyplot as plt\n",
    "model_type = \"tensor_gru\"\n",
    "H_type = \"cluster\"\n",
    "L = 64\n",
    "p = 1\n",
    "units = 128\n",
    "numsamples = 256\n",
    "dmrg = False\n",
    "seed = 3\n",
    "angle_list = [0.0, 0.157, 0.314, 0.471, 0.628, 0.785, 0.942, 1.1, 1.257, 1.414, 1.571]\n",
    "meanE_ES = []\n",
    "meanE_ES_dmrg = []\n",
    "meanE_cluster = []\n",
    "evalE_ES = []\n",
    "evalE_ES_dmrg = []\n",
    "evalvar_ES_dmeg = []\n",
    "evalvar_ES = []\n",
    "evalE_cluster = []\n",
    "evalvar_cluster = []\n",
    "\n",
    "for i in angle_list:\n",
    "    meanE_ES.append(np.load(\"result/meanE_1DRNN_HtypeES_L64_patch1_units128_batch256_dmrgFalse_seed3_angle\"+str(i)+\".npy\").ravel().tolist())\n",
    "    meanE_ES_dmrg.append(np.load(\"result/meanE_1DRNN_HtypeES_L64_patch1_units128_batch256_dmrgTrue_seed3_angle\"+str(i)+\".npy\").ravel().tolist())\n",
    "    meanE_cluster.append(np.load(\"result/meanE_1DRNN_Htypecluster_L64_patch1_units128_batch256_dmrgFalse_seed3_angle\"+str(i)+\".npy\").ravel().tolist())\n",
    "    evalE_ES.append(np.load(\"result/evalmeanE_1DRNN_HtypeES_L64_patch1_units128_batch256_dmrgFalse_seed3_angle\"+str(i)+\".npy\").ravel().tolist())\n",
    "    evalE_ES_dmrg.append(np.load(\"result/evalmeanE_1DRNN_HtypeES_L64_patch1_units128_batch256_dmrgTrue_seed3_angle\"+str(i)+\".npy\").ravel().tolist())\n",
    "    evalvar_ES.append(np.load(\"result/evalvarE_1DRNN_HtypeES_L64_patch1_units128_batch256_dmrgFalse_seed3_angle\"+str(i)+\".npy\").ravel().tolist())\n",
    "    evalE_cluster.append(np.load(\"result/evalmeanE_1DRNN_Htypecluster_L64_patch1_units128_batch256_dmrgFalse_seed3_angle\"+str(i)+\".npy\").ravel().tolist())\n",
    "    evalvar_cluster.append(np.load(\"result/evalvarE_1DRNN_Htypecluster_L64_patch1_units128_batch256_dmrgFalse_seed3_angle\"+str(i)+\".npy\").ravel().tolist())\n"
   ]
  },
  {
   "cell_type": "code",
   "outputs": [],
   "source": [
    "plt.plot(np.arange(len(np.array(meanE_ES).ravel())), np.array(meanE_ES).ravel().real, label = \"ES\")\n",
    "plt.plot(np.arange(len(np.array(meanE_ES_dmrg).ravel())), np.array(meanE_ES_dmrg).ravel().real, label = \"ES_dmrg\")\n",
    "plt.plot(np.arange(len(np.array(meanE_cluster).ravel())), np.flip(np.array(meanE_cluster).reshape(11, -1), axis = 0) .ravel().real, label = \"cluster\")\n",
    "for i in range(1, 11):\n",
    "    plt.axvline(x=i*100000, color=\"gray\", linestyle=\"--\")\n",
    "plt.ylim(-64, -48)\n",
    "plt.ylabel(\"Energy\")\n",
    "plt.xlabel(\"Training Step\")\n",
    "plt.title(\"Energy vs Training Step by tensor_gru (L = 64, units = 128, batch = 256)\")\n",
    "plt.legend()\n",
    "plt.show()"
   ],
   "metadata": {
    "collapsed": false
   },
   "id": "37d5e0958bf11294",
   "execution_count": null
  },
  {
   "cell_type": "code",
   "outputs": [],
   "source": [
    "def moving_average(data, window_size = 100):\n",
    "    return np.convolve(data, np.ones(window_size)/window_size, mode='same')\n",
    "plt.plot(np.arange(len(np.array(meanE_ES).ravel())), moving_average(np.array(meanE_ES).ravel().real), label = \"ES\")\n",
    "plt.plot(np.arange(len(np.array(meanE_ES_dmrg).ravel())), moving_average(np.array(meanE_ES_dmrg).ravel().real), label = \"ES_dmrg\")\n",
    "plt.plot(np.arange(len(np.array(meanE_cluster).ravel())), moving_average(np.flip(np.array(meanE_cluster).reshape(11, -1), axis = 0).ravel().real), label = \"cluster\")\n",
    "for i in range(1, 11):\n",
    "    plt.axvline(x=i*100000, color=\"gray\", linestyle=\"--\")\n",
    "plt.ylim(-64, -40)\n",
    "plt.ylabel(\"Energy\")\n",
    "plt.xlabel(\"Training Step\")\n",
    "plt.title(\"Energy vs Steps by tensor_gru (moving_avg = 100, L = 64, units = 128, batch = 256)\")\n",
    "plt.legend()\n",
    "plt.show()"
   ],
   "metadata": {
    "collapsed": false
   },
   "id": "c865d00b3e4c28d2",
   "execution_count": null
  },
  {
   "cell_type": "code",
   "outputs": [],
   "source": [
    "plt.scatter(np.array(angle_list), ((np.array(evalE_ES)+64).real/64*100).ravel(), label = \"ES\")\n",
    "plt.scatter(np.array(angle_list), ((np.array(evalE_ES_dmrg)+64).real/64*100).ravel(), label = \"ES_dmrg\")\n",
    "plt.scatter(np.array(angle_list), ((np.flip(np.array(evalE_cluster))+64).real/64*100).ravel(), label = \"cluster\")\n",
    "plt.xlabel(\"rotation angle\")\n",
    "plt.ylabel(\"Energy Error (%)\")\n",
    "plt.title(\"Energy Error (%) vs Rotation Angle by tensor_gru (L = 64, units = 128, batch = 256)\")\n",
    "plt.legend()\n",
    "plt.show()"
   ],
   "metadata": {
    "collapsed": false
   },
   "id": "771145b1e7c598b1",
   "execution_count": null
  },
  {
   "cell_type": "code",
   "outputs": [],
   "source": [
    "plt.scatter(np.array(angle_list)[-5:], ((np.array(evalE_ES[-5:])+64).real/64).ravel(), label = \"ES\")\n",
    "plt.scatter(np.array(angle_list)[-5:], ((np.array(evalE_ES_dmrg[-5:])+64).real/64).ravel(), label = \"ES_dmrg\")\n",
    "plt.scatter(np.array(angle_list)[-5:], ((np.flip(np.array(evalE_cluster[:5]))+64).real/64).ravel(), label = \"cluster\")\n",
    "plt.xlabel(\"rotation angle\")\n",
    "plt.ylabel(\"Energy Error (ratio)\")\n",
    "plt.yscale(\"log\")\n",
    "plt.ylim(1e-6, 1e-2)\n",
    "plt.title(\"Energy Error vs Rotation Angle by tensor_gru (L = 64, units = 128, batch = 256)\")\n",
    "plt.legend()\n",
    "plt.show()"
   ],
   "metadata": {
    "collapsed": false
   },
   "id": "c66d07b43b3df796",
   "execution_count": null
  },
  {
   "cell_type": "code",
   "outputs": [],
   "source": [],
   "metadata": {
    "collapsed": false,
    "ExecuteTime": {
     "end_time": "2024-09-28T16:39:59.256099Z",
     "start_time": "2024-09-28T16:39:59.253648Z"
    }
   },
   "id": "ba16d39aa89a2857",
   "execution_count": null
  },
  {
   "cell_type": "code",
   "outputs": [],
   "source": [],
   "metadata": {
    "collapsed": false
   },
   "id": "c3fa4b28288119"
  }
 ],
 "metadata": {
  "kernelspec": {
   "display_name": "Python 3",
   "language": "python",
   "name": "python3"
  },
  "language_info": {
   "codemirror_mode": {
    "name": "ipython",
    "version": 2
   },
   "file_extension": ".py",
   "mimetype": "text/x-python",
   "name": "python",
   "nbconvert_exporter": "python",
   "pygments_lexer": "ipython2",
   "version": "2.7.6"
  }
 },
 "nbformat": 4,
 "nbformat_minor": 5
}
