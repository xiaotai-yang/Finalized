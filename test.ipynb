{
 "cells": [
  {
   "cell_type": "code",
   "execution_count": 3,
   "id": "initial_id",
   "metadata": {
    "collapsed": true,
    "ExecuteTime": {
     "end_time": "2024-09-18T17:00:46.333177Z",
     "start_time": "2024-09-18T17:00:46.326098Z"
    }
   },
   "outputs": [],
   "source": [
    "import jax.numpy as jnp\n",
    "import numpy as np\n",
    "h_size = 5\n",
    "head = 4\n",
    "r1 = jnp.arange(2)\n",
    "r0 = jnp.arange(2)\n"
   ]
  },
  {
   "cell_type": "code",
   "outputs": [
    {
     "data": {
      "text/plain": "Array([[0.1 , 0.2 , 0.  , 0.1 , 0.2 ],\n       [1.1 , 0.95, 0.5 , 0.35, 0.2 ]], dtype=float32)"
     },
     "execution_count": 4,
     "metadata": {},
     "output_type": "execute_result"
    }
   ],
   "source": [
    "r0[:, None] * (1 - (jnp.arange(h_size) / (h_size - 1)))[None, :] + 0.1 * ((jnp.arange(h_size) + 1) % 3)\n"
   ],
   "metadata": {
    "collapsed": false,
    "ExecuteTime": {
     "end_time": "2024-09-18T17:00:46.886830Z",
     "start_time": "2024-09-18T17:00:46.597366Z"
    }
   },
   "id": "ba16d39aa89a2857",
   "execution_count": 4
  },
  {
   "cell_type": "code",
   "outputs": [
    {
     "data": {
      "text/plain": "Array([[0.1, 0.2, 0. ],\n       [1.1, 0.7, 0. ]], dtype=float32)"
     },
     "execution_count": 16,
     "metadata": {},
     "output_type": "execute_result"
    }
   ],
   "source": [
    "r0 = jnp.arange(2)\n",
    "r0[:, None] * (1 - (jnp.arange(D) / (D - 1)))[None, :] + 0.1 * ((jnp.arange(D) + 1) % 3)"
   ],
   "metadata": {
    "collapsed": false,
    "ExecuteTime": {
     "end_time": "2024-09-18T06:58:39.172745Z",
     "start_time": "2024-09-18T06:58:39.137764Z"
    }
   },
   "id": "803f6c34015c0129",
   "execution_count": 16
  },
  {
   "cell_type": "code",
   "outputs": [
    {
     "data": {
      "text/plain": "tensor([[[[ 0.0000,  0.0000,  0.0000],\n          [ 1.1325, -0.5770,  0.4798],\n          [-0.2277, -0.3857, -0.1964]]]])"
     },
     "execution_count": 10,
     "metadata": {},
     "output_type": "execute_result"
    }
   ],
   "source": [
    "import torch\n",
    "import torch.nn as nn\n",
    "m = nn.ZeroPad2d(2)\n",
    "input = torch.randn(1, 1, 3, 3)\n",
    "input\n",
    "m(input)\n",
    "# using different paddings for different sides\n",
    "m = nn.ZeroPad2d((0, 0, 1, -1))\n",
    "m(input)"
   ],
   "metadata": {
    "collapsed": false,
    "ExecuteTime": {
     "end_time": "2024-09-18T17:33:31.980033Z",
     "start_time": "2024-09-18T17:33:31.965312Z"
    }
   },
   "id": "14989bf5106a7df7",
   "execution_count": 10
  },
  {
   "cell_type": "code",
   "outputs": [],
   "source": [
    "import jax\n",
    "a1, a2, a3 = jnp.ones((3, 4))"
   ],
   "metadata": {
    "collapsed": false,
    "ExecuteTime": {
     "end_time": "2024-09-18T20:21:59.759159Z",
     "start_time": "2024-09-18T20:21:59.692900Z"
    }
   },
   "id": "a16694c729077d15",
   "execution_count": 18
  },
  {
   "cell_type": "code",
   "outputs": [
    {
     "data": {
      "text/plain": "Array([1., 1., 1., 1.], dtype=float32)"
     },
     "execution_count": 19,
     "metadata": {},
     "output_type": "execute_result"
    }
   ],
   "source": [
    "a1"
   ],
   "metadata": {
    "collapsed": false,
    "ExecuteTime": {
     "end_time": "2024-09-18T20:22:02.090646Z",
     "start_time": "2024-09-18T20:22:02.085200Z"
    }
   },
   "id": "c0ecd81008e0ef69",
   "execution_count": 19
  },
  {
   "cell_type": "code",
   "outputs": [],
   "source": [
    "x = jnp.ones(3)\n"
   ],
   "metadata": {
    "collapsed": false,
    "ExecuteTime": {
     "end_time": "2024-09-19T05:35:26.982299Z",
     "start_time": "2024-09-19T05:35:26.837487Z"
    }
   },
   "id": "a6202a9b2c079523",
   "execution_count": 20
  },
  {
   "cell_type": "code",
   "outputs": [
    {
     "data": {
      "text/plain": "Array([[2., 2., 2., 2.],\n       [2., 2., 2., 2.],\n       [2., 2., 2., 2.]], dtype=float32)"
     },
     "execution_count": 23,
     "metadata": {},
     "output_type": "execute_result"
    }
   ],
   "source": [
    "jnp.ones((3, 4)) + jnp.ones(3)[:, None]"
   ],
   "metadata": {
    "collapsed": false,
    "ExecuteTime": {
     "end_time": "2024-09-19T06:05:36.965536Z",
     "start_time": "2024-09-19T06:05:36.894797Z"
    }
   },
   "id": "801fef77c2e3fcb4",
   "execution_count": 23
  },
  {
   "cell_type": "code",
   "outputs": [
    {
     "ename": "AttributeError",
     "evalue": "module 'jax.numpy' has no attribute 'bmm'",
     "output_type": "error",
     "traceback": [
      "\u001B[1;31m---------------------------------------------------------------------------\u001B[0m",
      "\u001B[1;31mAttributeError\u001B[0m                            Traceback (most recent call last)",
      "Cell \u001B[1;32mIn[30], line 3\u001B[0m\n\u001B[0;32m      1\u001B[0m a \u001B[38;5;241m=\u001B[39m jnp\u001B[38;5;241m.\u001B[39mones(\u001B[38;5;241m3\u001B[39m)\n\u001B[0;32m      2\u001B[0m b \u001B[38;5;241m=\u001B[39m jnp\u001B[38;5;241m.\u001B[39mones((\u001B[38;5;241m3\u001B[39m, \u001B[38;5;241m2\u001B[39m, \u001B[38;5;241m4\u001B[39m))\n\u001B[1;32m----> 3\u001B[0m \u001B[43mjnp\u001B[49m\u001B[38;5;241;43m.\u001B[39;49m\u001B[43mbmm\u001B[49m(a, b)\n",
      "File \u001B[1;32m~\\PycharmProjects\\Final_version\\.venv\\Lib\\site-packages\\jax\\_src\\deprecations.py:55\u001B[0m, in \u001B[0;36mdeprecation_getattr.<locals>.getattr\u001B[1;34m(name)\u001B[0m\n\u001B[0;32m     53\u001B[0m   warnings\u001B[38;5;241m.\u001B[39mwarn(message, \u001B[38;5;167;01mDeprecationWarning\u001B[39;00m, stacklevel\u001B[38;5;241m=\u001B[39m\u001B[38;5;241m2\u001B[39m)\n\u001B[0;32m     54\u001B[0m   \u001B[38;5;28;01mreturn\u001B[39;00m fn\n\u001B[1;32m---> 55\u001B[0m \u001B[38;5;28;01mraise\u001B[39;00m \u001B[38;5;167;01mAttributeError\u001B[39;00m(\u001B[38;5;124mf\u001B[39m\u001B[38;5;124m\"\u001B[39m\u001B[38;5;124mmodule \u001B[39m\u001B[38;5;132;01m{\u001B[39;00mmodule\u001B[38;5;132;01m!r}\u001B[39;00m\u001B[38;5;124m has no attribute \u001B[39m\u001B[38;5;132;01m{\u001B[39;00mname\u001B[38;5;132;01m!r}\u001B[39;00m\u001B[38;5;124m\"\u001B[39m)\n",
      "\u001B[1;31mAttributeError\u001B[0m: module 'jax.numpy' has no attribute 'bmm'"
     ]
    }
   ],
   "source": [
    "a = jnp.ones(3)\n",
    "b = jnp.ones((3, 2, 4))\n",
    "jnp.bmm(a, b)"
   ],
   "metadata": {
    "collapsed": false,
    "ExecuteTime": {
     "end_time": "2024-09-19T06:42:17.512889Z",
     "start_time": "2024-09-19T06:42:17.481063Z"
    }
   },
   "id": "d98581531cda39b4",
   "execution_count": 30
  },
  {
   "cell_type": "code",
   "outputs": [],
   "source": [],
   "metadata": {
    "collapsed": false
   },
   "id": "b17d521d14e345e"
  }
 ],
 "metadata": {
  "kernelspec": {
   "display_name": "Python 3",
   "language": "python",
   "name": "python3"
  },
  "language_info": {
   "codemirror_mode": {
    "name": "ipython",
    "version": 2
   },
   "file_extension": ".py",
   "mimetype": "text/x-python",
   "name": "python",
   "nbconvert_exporter": "python",
   "pygments_lexer": "ipython2",
   "version": "2.7.6"
  }
 },
 "nbformat": 4,
 "nbformat_minor": 5
}
